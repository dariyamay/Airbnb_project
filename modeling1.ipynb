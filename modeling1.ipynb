{
  "nbformat": 4,
  "nbformat_minor": 0,
  "metadata": {
    "colab": {
      "name": "1.ipynb",
      "provenance": []
    },
    "kernelspec": {
      "name": "python3",
      "display_name": "Python 3"
    }
  },
  "cells": [
    {
      "cell_type": "code",
      "metadata": {
        "id": "ekZjsGUvxQsA"
      },
      "source": [
        "import pandas as pd\n",
        "import numpy as np\n",
        "import matplotlib.pyplot as plt\n",
        "import seaborn as sns\n",
        "import torch\n",
        "import os\n",
        "from tqdm import tqdm\n",
        "import seaborn as sns\n",
        "from pylab import rcParams\n",
        "import matplotlib.pyplot as plt\n",
        "from matplotlib import rc\n",
        "from sklearn.model_selection import train_test_split\n",
        "from sklearn.metrics import confusion_matrix, classification_report\n",
        "from torch import nn, optim\n",
        "import torch.nn.functional as F\n",
        "from numpy import asarray\n",
        "from sklearn.preprocessing import MinMaxScaler\n",
        "from torch.utils.data import Dataset, DataLoader, WeightedRandomSampler\n",
        "import warnings; warnings.simplefilter('ignore')\n",
        "import torch.nn.functional as F\n",
        "from torchvision.datasets.utils import download_url\n",
        "from torch.utils.data import DataLoader, TensorDataset, random_split\n",
        "from torch.nn import Module\n",
        "%matplotlib inline\n",
        "%config InlineBackend.figure_format='retina'\n",
        "\n",
        "import torch.nn.functional as F\n",
        "from torchvision.datasets.utils import download_url\n",
        "device = (\"cuda\" if torch.cuda.is_available() else \"cpu\")\n",
        "\n",
        "from google.colab import files"
      ],
      "execution_count": 67,
      "outputs": []
    },
    {
      "cell_type": "code",
      "metadata": {
        "colab": {
          "base_uri": "https://localhost:8080/"
        },
        "id": "Kur_3xYx-aFu",
        "outputId": "dc09706d-d4fb-4284-8107-addffce5dba6"
      },
      "source": [
        "sns.set(style='whitegrid', palette='muted', font_scale=1.2)\n",
        "HAPPY_COLORS_PALETTE =\\\n",
        "[\"#01BEFE\", \"#FFDD00\", \"#FF7D00\", \"#FF006D\", \"#93D30C\", \"#8F00FF\"]\n",
        "sns.set_palette(sns.color_palette(HAPPY_COLORS_PALETTE))\n",
        "rcParams['figure.figsize'] = 12, 8\n",
        "RANDOM_SEED = 42\n",
        "np.random.seed(RANDOM_SEED)\n",
        "torch.manual_seed(RANDOM_SEED)"
      ],
      "execution_count": 27,
      "outputs": [
        {
          "output_type": "execute_result",
          "data": {
            "text/plain": [
              "<torch._C.Generator at 0x7f8a6957a588>"
            ]
          },
          "metadata": {
            "tags": []
          },
          "execution_count": 27
        }
      ]
    },
    {
      "cell_type": "code",
      "metadata": {
        "colab": {
          "resources": {
            "http://localhost:8080/nbextensions/google.colab/files.js": {
              "data": "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",
              "ok": true,
              "headers": [
                [
                  "content-type",
                  "application/javascript"
                ]
              ],
              "status": 200,
              "status_text": ""
            }
          },
          "base_uri": "https://localhost:8080/",
          "height": 73
        },
        "id": "GjLByQih7lMv",
        "outputId": "fecf1ff3-0671-46c4-db1e-522b863d0a61"
      },
      "source": [
        "uploaded = files.upload()"
      ],
      "execution_count": 2,
      "outputs": [
        {
          "output_type": "display_data",
          "data": {
            "text/html": [
              "\n",
              "     <input type=\"file\" id=\"files-7c4300d1-badf-4188-bfc7-d28e91d9a8fd\" name=\"files[]\" multiple disabled\n",
              "        style=\"border:none\" />\n",
              "     <output id=\"result-7c4300d1-badf-4188-bfc7-d28e91d9a8fd\">\n",
              "      Upload widget is only available when the cell has been executed in the\n",
              "      current browser session. Please rerun this cell to enable.\n",
              "      </output>\n",
              "      <script src=\"/nbextensions/google.colab/files.js\"></script> "
            ],
            "text/plain": [
              "<IPython.core.display.HTML object>"
            ]
          },
          "metadata": {
            "tags": []
          }
        },
        {
          "output_type": "stream",
          "text": [
            "Saving airbnb_raw.csv to airbnb_raw.csv\n"
          ],
          "name": "stdout"
        }
      ]
    },
    {
      "cell_type": "code",
      "metadata": {
        "id": "Y7mvNMO17p0G"
      },
      "source": [
        "data = pd.read_csv(\"airbnb_raw.csv\")"
      ],
      "execution_count": 3,
      "outputs": []
    },
    {
      "cell_type": "code",
      "metadata": {
        "id": "2l-zZgTT7xGQ"
      },
      "source": [
        "def clean(df):\n",
        "    df[\"Room type\"] = df[\"Descriptions\"].str.split(\" in\", expand=True)[0]\n",
        "    df.loc[:, \"Guests\"] = df[\"Info\"].str.rsplit('guest', 1).str.get(0)\n",
        "    df.loc[:, \"Bedrooms\"] = df[\"Info\"].str.split(\" · \", n = 0, expand = True)[1].str.rsplit('bedroom', 1).str.get(0)\n",
        "    df.loc[:, \"Beds\"] = df.loc[:, \"Info\"].str.split(\" . \", n = 0, expand = True)[2].str.rsplit('bed', 1).str.get(0)\n",
        "    df.loc[:, \"Bathrooms\"] = df.loc[:, \"Info\"].str.split(\" . \", n = 0, expand = True)[3]\n",
        "    df.loc[:,\"Price\"] = df.loc[:, \"Prices\"].str.split(\"$\", n = 0, expand = True)[1].str.replace(\" / night\", \"\")\n",
        "    df.loc[:,\"Bathrooms\"] = df[\"Bathrooms\"].str.rsplit('shared', 1).str.get(0)\n",
        "    df.loc[:,\"Bathrooms\"] = df[\"Bathrooms\"].str.rsplit('bath', 1).str.get(0)\n",
        "    df.loc[:,\"Ratings\"] = df.loc[:, \"Ratings\"].str.split(\" \", n = 0, expand = True)[1].str.replace(\" out of 5;\", \"\")\n",
        "    df.loc[:, \"Reviews\"] = df[\"Review number\"].str.rsplit('reviews', 1).str.get(0)\n",
        "    return df"
      ],
      "execution_count": 4,
      "outputs": []
    },
    {
      "cell_type": "code",
      "metadata": {
        "id": "r5kahm4x70BN"
      },
      "source": [
        "def tonumeric(df):\n",
        "    df.loc[:, \"Guests\"] = pd.to_numeric(df.Guests, errors = 'coerce')\n",
        "    df.loc[:, \"Beds\"] = pd.to_numeric(df.Beds, errors = 'coerce')\n",
        "    df.loc[:, \"Bedrooms\"] = pd.to_numeric(df.Bedrooms, errors = 'coerce')\n",
        "    df.loc[:, \"Bathrooms\"] = pd.to_numeric(df.Bathrooms, errors = \"coerce\")\n",
        "    df.loc[:, \"Ratings\"] = pd.to_numeric(df.Ratings, errors = 'coerce')\n",
        "    df.loc[:, \"Price\"] = pd.to_numeric(df.Price, errors = 'coerce')\n",
        "    df.loc[:, \"Reviews\"] = pd.to_numeric(df.Reviews, errors = 'coerce')    \n",
        "    return df"
      ],
      "execution_count": 5,
      "outputs": []
    },
    {
      "cell_type": "code",
      "metadata": {
        "id": "czE0Sh5-72dy"
      },
      "source": [
        "df = clean(data)\n",
        "df2 = tonumeric(df)"
      ],
      "execution_count": 6,
      "outputs": []
    },
    {
      "cell_type": "code",
      "metadata": {
        "id": "f0u7SI2X76DY"
      },
      "source": [
        "airbnb_data = df2.drop([\"Unnamed: 0\", \"Prices\", \"Info\", \"Review number\"], axis = 1)\n",
        "airbnb_data = airbnb_data.dropna()"
      ],
      "execution_count": 7,
      "outputs": []
    },
    {
      "cell_type": "code",
      "metadata": {
        "colab": {
          "base_uri": "https://localhost:8080/"
        },
        "id": "x2L-97PK77ot",
        "outputId": "57dfba7e-6a9b-44cd-a6f6-9b3b6567e3cc"
      },
      "source": [
        "airbnb_data['Room type'].unique()"
      ],
      "execution_count": 8,
      "outputs": [
        {
          "output_type": "execute_result",
          "data": {
            "text/plain": [
              "array(['Entire house', 'Private room', 'Hotel room', 'Entire apartment',\n",
              "       'Shared room', 'Entire loft', 'Entire condominium',\n",
              "       'Entire guest suite', 'Entire townhouse', 'Entire guesthouse',\n",
              "       'Treehouse', 'Entire cottage', 'Tiny house', 'Camper/RV', 'Beds',\n",
              "       'Boat', 'Room'], dtype=object)"
            ]
          },
          "metadata": {
            "tags": []
          },
          "execution_count": 8
        }
      ]
    },
    {
      "cell_type": "code",
      "metadata": {
        "id": "r3bfXX4779PP"
      },
      "source": [
        "a=['Hotel room', 'Camper/RV', 'Beds','Boat', 'Room', 'Treehouse']\n",
        "airbnb_data = airbnb_data[~airbnb_data['Room type'].isin(a)]"
      ],
      "execution_count": 9,
      "outputs": []
    },
    {
      "cell_type": "code",
      "metadata": {
        "colab": {
          "base_uri": "https://localhost:8080/",
          "height": 294
        },
        "id": "vSAWWkVd7_PV",
        "outputId": "17f8850d-804b-44f1-a462-f396c9cff224"
      },
      "source": [
        "airbnb_data.describe()"
      ],
      "execution_count": 10,
      "outputs": [
        {
          "output_type": "execute_result",
          "data": {
            "text/html": [
              "<div>\n",
              "<style scoped>\n",
              "    .dataframe tbody tr th:only-of-type {\n",
              "        vertical-align: middle;\n",
              "    }\n",
              "\n",
              "    .dataframe tbody tr th {\n",
              "        vertical-align: top;\n",
              "    }\n",
              "\n",
              "    .dataframe thead th {\n",
              "        text-align: right;\n",
              "    }\n",
              "</style>\n",
              "<table border=\"1\" class=\"dataframe\">\n",
              "  <thead>\n",
              "    <tr style=\"text-align: right;\">\n",
              "      <th></th>\n",
              "      <th>Ratings</th>\n",
              "      <th>Guests</th>\n",
              "      <th>Bedrooms</th>\n",
              "      <th>Beds</th>\n",
              "      <th>Bathrooms</th>\n",
              "      <th>Price</th>\n",
              "      <th>Reviews</th>\n",
              "    </tr>\n",
              "  </thead>\n",
              "  <tbody>\n",
              "    <tr>\n",
              "      <th>count</th>\n",
              "      <td>662.000000</td>\n",
              "      <td>662.000000</td>\n",
              "      <td>662.000000</td>\n",
              "      <td>662.000000</td>\n",
              "      <td>662.000000</td>\n",
              "      <td>662.000000</td>\n",
              "      <td>662.000000</td>\n",
              "    </tr>\n",
              "    <tr>\n",
              "      <th>mean</th>\n",
              "      <td>4.763489</td>\n",
              "      <td>2.688822</td>\n",
              "      <td>1.172205</td>\n",
              "      <td>1.480363</td>\n",
              "      <td>1.283233</td>\n",
              "      <td>79.507553</td>\n",
              "      <td>108.309668</td>\n",
              "    </tr>\n",
              "    <tr>\n",
              "      <th>std</th>\n",
              "      <td>0.269919</td>\n",
              "      <td>1.650149</td>\n",
              "      <td>0.464094</td>\n",
              "      <td>1.091325</td>\n",
              "      <td>0.786270</td>\n",
              "      <td>65.688250</td>\n",
              "      <td>122.365042</td>\n",
              "    </tr>\n",
              "    <tr>\n",
              "      <th>min</th>\n",
              "      <td>2.830000</td>\n",
              "      <td>1.000000</td>\n",
              "      <td>1.000000</td>\n",
              "      <td>0.000000</td>\n",
              "      <td>1.000000</td>\n",
              "      <td>15.000000</td>\n",
              "      <td>3.000000</td>\n",
              "    </tr>\n",
              "    <tr>\n",
              "      <th>25%</th>\n",
              "      <td>4.700000</td>\n",
              "      <td>2.000000</td>\n",
              "      <td>1.000000</td>\n",
              "      <td>1.000000</td>\n",
              "      <td>1.000000</td>\n",
              "      <td>39.000000</td>\n",
              "      <td>17.000000</td>\n",
              "    </tr>\n",
              "    <tr>\n",
              "      <th>50%</th>\n",
              "      <td>4.840000</td>\n",
              "      <td>2.000000</td>\n",
              "      <td>1.000000</td>\n",
              "      <td>1.000000</td>\n",
              "      <td>1.000000</td>\n",
              "      <td>61.000000</td>\n",
              "      <td>62.500000</td>\n",
              "    </tr>\n",
              "    <tr>\n",
              "      <th>75%</th>\n",
              "      <td>4.930000</td>\n",
              "      <td>4.000000</td>\n",
              "      <td>1.000000</td>\n",
              "      <td>2.000000</td>\n",
              "      <td>1.000000</td>\n",
              "      <td>99.000000</td>\n",
              "      <td>159.000000</td>\n",
              "    </tr>\n",
              "    <tr>\n",
              "      <th>max</th>\n",
              "      <td>5.000000</td>\n",
              "      <td>10.000000</td>\n",
              "      <td>4.000000</td>\n",
              "      <td>12.000000</td>\n",
              "      <td>10.000000</td>\n",
              "      <td>741.000000</td>\n",
              "      <td>667.000000</td>\n",
              "    </tr>\n",
              "  </tbody>\n",
              "</table>\n",
              "</div>"
            ],
            "text/plain": [
              "          Ratings      Guests    Bedrooms  ...   Bathrooms       Price     Reviews\n",
              "count  662.000000  662.000000  662.000000  ...  662.000000  662.000000  662.000000\n",
              "mean     4.763489    2.688822    1.172205  ...    1.283233   79.507553  108.309668\n",
              "std      0.269919    1.650149    0.464094  ...    0.786270   65.688250  122.365042\n",
              "min      2.830000    1.000000    1.000000  ...    1.000000   15.000000    3.000000\n",
              "25%      4.700000    2.000000    1.000000  ...    1.000000   39.000000   17.000000\n",
              "50%      4.840000    2.000000    1.000000  ...    1.000000   61.000000   62.500000\n",
              "75%      4.930000    4.000000    1.000000  ...    1.000000   99.000000  159.000000\n",
              "max      5.000000   10.000000    4.000000  ...   10.000000  741.000000  667.000000\n",
              "\n",
              "[8 rows x 7 columns]"
            ]
          },
          "metadata": {
            "tags": []
          },
          "execution_count": 10
        }
      ]
    },
    {
      "cell_type": "code",
      "metadata": {
        "id": "egNXvDI08A4I"
      },
      "source": [
        "airbnb = airbnb_data[airbnb_data['Price'] <= 600]"
      ],
      "execution_count": 11,
      "outputs": []
    },
    {
      "cell_type": "code",
      "metadata": {
        "id": "XHtzfW2W8DFQ"
      },
      "source": [
        "#separating and encoding accommodation type\n",
        "def label_accommodation(df):\n",
        "  if df['Room type'] == 'Entire house':\n",
        "    return 'Entire home/apt'\n",
        "  if df['Room type'] == 'Entire apartment':\n",
        "    return 'Entire home/apt'\n",
        "  if df['Room type'] == 'Entire loft':\n",
        "    return 'Entire home/apt'\n",
        "\n",
        "  if df['Room type'] == 'Entire condominium':\n",
        "    return 'Entire home/apt'\n",
        "  if df['Room type'] == 'Entire guest suite':\n",
        "    return 'Entire home/apt'\n",
        "  if df['Room type'] == 'Entire townhouse':\n",
        "    return 'Entire home/apt'\n",
        "\n",
        "  if df['Room type'] == 'Entire guesthouse':\n",
        "    return 'Entire home/apt'\n",
        "  if df['Room type'] == 'Entire cottage':\n",
        "    return 'Entire home/apt'\n",
        "  if df['Room type'] == 'Tiny house':\n",
        "    return 'Entire home/apt'\n",
        "\n",
        "  if df['Room type'] == 'Private room':\n",
        "    return 'Private room'\n",
        "  if df['Room type'] == 'Shared room':\n",
        "    return 'Shared room'"
      ],
      "execution_count": 12,
      "outputs": []
    },
    {
      "cell_type": "code",
      "metadata": {
        "colab": {
          "base_uri": "https://localhost:8080/"
        },
        "id": "-Z3A7U6O8MZ8",
        "outputId": "4f29165d-518e-4a5e-941d-928a098e828f"
      },
      "source": [
        "airbnb['Accommodation type'] = airbnb.apply (lambda df: label_accommodation(df), axis=1)"
      ],
      "execution_count": 13,
      "outputs": [
        {
          "output_type": "stream",
          "text": [
            "/usr/local/lib/python3.6/dist-packages/ipykernel_launcher.py:1: SettingWithCopyWarning: \n",
            "A value is trying to be set on a copy of a slice from a DataFrame.\n",
            "Try using .loc[row_indexer,col_indexer] = value instead\n",
            "\n",
            "See the caveats in the documentation: https://pandas.pydata.org/pandas-docs/stable/user_guide/indexing.html#returning-a-view-versus-a-copy\n",
            "  \"\"\"Entry point for launching an IPython kernel.\n"
          ],
          "name": "stderr"
        }
      ]
    },
    {
      "cell_type": "code",
      "metadata": {
        "id": "OAgwg3I-8RMn"
      },
      "source": [
        "airbnb['City'].replace({'New York': 1, 'Los Angeles': 2, 'San Francisco': 3, 'Boston': 4, 'Chicago': 5}, inplace = True)\n",
        "airbnb['Accommodation type'].replace({'Entire home/apt': 0, 'Private room': 1, 'Shared room': 2}, inplace = True)"
      ],
      "execution_count": 15,
      "outputs": []
    },
    {
      "cell_type": "code",
      "metadata": {
        "id": "SWe2dLtM8cez"
      },
      "source": [
        "airbnb.loc[:, \"City\"] = pd.to_numeric(airbnb.City, errors = 'coerce')\n",
        "airbnb.loc[:, \"Accommodation type\"] = pd.to_numeric(airbnb['Accommodation type'], errors = 'coerce')"
      ],
      "execution_count": 16,
      "outputs": []
    },
    {
      "cell_type": "code",
      "metadata": {
        "colab": {
          "base_uri": "https://localhost:8080/",
          "height": 510
        },
        "id": "Rt1evRHR8hhI",
        "outputId": "0620ab06-3f65-43b4-d5f4-2a7feaff2c33"
      },
      "source": [
        "airbnb.head()"
      ],
      "execution_count": 17,
      "outputs": [
        {
          "output_type": "execute_result",
          "data": {
            "text/html": [
              "<div>\n",
              "<style scoped>\n",
              "    .dataframe tbody tr th:only-of-type {\n",
              "        vertical-align: middle;\n",
              "    }\n",
              "\n",
              "    .dataframe tbody tr th {\n",
              "        vertical-align: top;\n",
              "    }\n",
              "\n",
              "    .dataframe thead th {\n",
              "        text-align: right;\n",
              "    }\n",
              "</style>\n",
              "<table border=\"1\" class=\"dataframe\">\n",
              "  <thead>\n",
              "    <tr style=\"text-align: right;\">\n",
              "      <th></th>\n",
              "      <th>Names</th>\n",
              "      <th>Descriptions</th>\n",
              "      <th>Facilities</th>\n",
              "      <th>Ratings</th>\n",
              "      <th>Links</th>\n",
              "      <th>City</th>\n",
              "      <th>Room type</th>\n",
              "      <th>Guests</th>\n",
              "      <th>Bedrooms</th>\n",
              "      <th>Beds</th>\n",
              "      <th>Bathrooms</th>\n",
              "      <th>Price</th>\n",
              "      <th>Reviews</th>\n",
              "      <th>Accommodation type</th>\n",
              "    </tr>\n",
              "  </thead>\n",
              "  <tbody>\n",
              "    <tr>\n",
              "      <th>2</th>\n",
              "      <td>Flatbush Hideaway - Quiet and close to subway!...</td>\n",
              "      <td>Entire house in Flatbush</td>\n",
              "      <td>Wifi·Selfcheck-in·Airconditioning·Kitchen</td>\n",
              "      <td>4.85</td>\n",
              "      <td>http://airbnb.com/rooms/31221559?previous_page...</td>\n",
              "      <td>1</td>\n",
              "      <td>Entire house</td>\n",
              "      <td>4</td>\n",
              "      <td>1.0</td>\n",
              "      <td>3.0</td>\n",
              "      <td>1.0</td>\n",
              "      <td>39.0</td>\n",
              "      <td>86.0</td>\n",
              "      <td>0</td>\n",
              "    </tr>\n",
              "    <tr>\n",
              "      <th>3</th>\n",
              "      <td>Friendly, unpretentious, close to the subway -...</td>\n",
              "      <td>Private room in Park Slope</td>\n",
              "      <td>Wifi·Airconditioning·Kitchen</td>\n",
              "      <td>4.91</td>\n",
              "      <td>http://airbnb.com/rooms/23839200?previous_page...</td>\n",
              "      <td>1</td>\n",
              "      <td>Private room</td>\n",
              "      <td>2</td>\n",
              "      <td>1.0</td>\n",
              "      <td>1.0</td>\n",
              "      <td>1.0</td>\n",
              "      <td>39.0</td>\n",
              "      <td>80.0</td>\n",
              "      <td>1</td>\n",
              "    </tr>\n",
              "    <tr>\n",
              "      <th>7</th>\n",
              "      <td>Soho Private Clean &amp; Quiet Bedroom - null - Ne...</td>\n",
              "      <td>Private room in Soho</td>\n",
              "      <td>Wifi·Kitchen</td>\n",
              "      <td>4.80</td>\n",
              "      <td>http://airbnb.com/rooms/35680818?previous_page...</td>\n",
              "      <td>1</td>\n",
              "      <td>Private room</td>\n",
              "      <td>1</td>\n",
              "      <td>1.0</td>\n",
              "      <td>1.0</td>\n",
              "      <td>1.0</td>\n",
              "      <td>39.0</td>\n",
              "      <td>10.0</td>\n",
              "      <td>1</td>\n",
              "    </tr>\n",
              "    <tr>\n",
              "      <th>10</th>\n",
              "      <td>Gold Room in Old American Style House, Near Su...</td>\n",
              "      <td>Private room in Queens</td>\n",
              "      <td>Wifi·Indoorfireplace·Selfcheck-in·Airconditioning</td>\n",
              "      <td>5.00</td>\n",
              "      <td>http://airbnb.com/rooms/41986091?previous_page...</td>\n",
              "      <td>1</td>\n",
              "      <td>Private room</td>\n",
              "      <td>2</td>\n",
              "      <td>1.0</td>\n",
              "      <td>1.0</td>\n",
              "      <td>1.5</td>\n",
              "      <td>40.0</td>\n",
              "      <td>7.0</td>\n",
              "      <td>1</td>\n",
              "    </tr>\n",
              "    <tr>\n",
              "      <th>12</th>\n",
              "      <td>Downtown Bronx Studio 15 min ride to Manhattan...</td>\n",
              "      <td>Entire apartment in Melrose</td>\n",
              "      <td>Wifi·Selfcheck-in·Airconditioning·Kitchen</td>\n",
              "      <td>4.88</td>\n",
              "      <td>http://airbnb.com/rooms/35584546?previous_page...</td>\n",
              "      <td>1</td>\n",
              "      <td>Entire apartment</td>\n",
              "      <td>3</td>\n",
              "      <td>1.0</td>\n",
              "      <td>1.0</td>\n",
              "      <td>1.0</td>\n",
              "      <td>56.0</td>\n",
              "      <td>24.0</td>\n",
              "      <td>0</td>\n",
              "    </tr>\n",
              "  </tbody>\n",
              "</table>\n",
              "</div>"
            ],
            "text/plain": [
              "                                                Names  ... Accommodation type\n",
              "2   Flatbush Hideaway - Quiet and close to subway!...  ...                  0\n",
              "3   Friendly, unpretentious, close to the subway -...  ...                  1\n",
              "7   Soho Private Clean & Quiet Bedroom - null - Ne...  ...                  1\n",
              "10  Gold Room in Old American Style House, Near Su...  ...                  1\n",
              "12  Downtown Bronx Studio 15 min ride to Manhattan...  ...                  0\n",
              "\n",
              "[5 rows x 14 columns]"
            ]
          },
          "metadata": {
            "tags": []
          },
          "execution_count": 17
        }
      ]
    },
    {
      "cell_type": "code",
      "metadata": {
        "id": "gQFxaPqP8rV_"
      },
      "source": [
        ""
      ],
      "execution_count": null,
      "outputs": []
    },
    {
      "cell_type": "markdown",
      "metadata": {
        "id": "757fufIm9GsS"
      },
      "source": [
        "**Introduction**\n",
        "In the previous project I have used the data from airbnb.com. In this project I will use Price as an ouput variable, and features like: Accommodation type, Number of Guests, Number of Bathrooms, Number of Beds, Number of Bedrooms, Number of Reviews, Ratings, and City. The reason for that choise is that the data has such an amount of features that determine the price.\n"
      ]
    },
    {
      "cell_type": "code",
      "metadata": {
        "id": "WNGIubCf9rtY"
      },
      "source": [
        "X = airbnb[['Accommodation type', 'Guests', 'Bathrooms', 'Beds', 'Bedrooms', 'Reviews', 'Ratings', 'City']]\n",
        "y = airbnb[['Price']]"
      ],
      "execution_count": 22,
      "outputs": []
    },
    {
      "cell_type": "code",
      "metadata": {
        "colab": {
          "base_uri": "https://localhost:8080/"
        },
        "id": "nCbZeV0t-HI9",
        "outputId": "5f967f6f-5c73-4f7e-d7c4-ef77681668e2"
      },
      "source": [
        "scaler = MinMaxScaler()\n",
        "# transform data\n",
        "X = scaler.fit_transform(X.to_numpy())\n",
        "print(X)"
      ],
      "execution_count": 23,
      "outputs": [
        {
          "output_type": "stream",
          "text": [
            "[[0.         0.33333333 0.         ... 0.125      0.93087558 0.        ]\n",
            " [0.5        0.11111111 0.         ... 0.11596386 0.95852535 0.        ]\n",
            " [0.5        0.         0.         ... 0.01054217 0.9078341  0.        ]\n",
            " ...\n",
            " [0.         0.11111111 0.         ... 0.41716867 0.99078341 0.5       ]\n",
            " [0.5        0.         0.         ... 0.45933735 0.89400922 0.5       ]\n",
            " [0.         0.33333333 0.         ... 0.         1.         0.5       ]]\n"
          ],
          "name": "stdout"
        }
      ]
    },
    {
      "cell_type": "code",
      "metadata": {
        "id": "s6b_tPxv-JwD"
      },
      "source": [
        "inputs = torch.from_numpy(X).to(torch.float32)\n",
        "targets = torch.from_numpy(y.to_numpy()).to(torch.float32)"
      ],
      "execution_count": 24,
      "outputs": []
    },
    {
      "cell_type": "code",
      "metadata": {
        "id": "JY9SRIDe-Mwz"
      },
      "source": [
        "X_train, X_test, y_train, y_test = train_test_split(X, y, test_size=0.2, random_state=RANDOM_SEED)"
      ],
      "execution_count": 28,
      "outputs": []
    },
    {
      "cell_type": "code",
      "metadata": {
        "colab": {
          "base_uri": "https://localhost:8080/"
        },
        "id": "Y1-71851-Pdy",
        "outputId": "2ad5c1ba-5750-49aa-ffe1-6c57e4b03550"
      },
      "source": [
        "print(X_train.shape, y_train.shape)\n",
        "print(X_test.shape, y_test.shape)"
      ],
      "execution_count": 29,
      "outputs": [
        {
          "output_type": "stream",
          "text": [
            "(528, 8) (528, 1)\n",
            "(133, 8) (133, 1)\n"
          ],
          "name": "stdout"
        }
      ]
    },
    {
      "cell_type": "code",
      "metadata": {
        "id": "jrr9nlE7-hMv"
      },
      "source": [
        "dataset = TensorDataset(inputs, targets)"
      ],
      "execution_count": 32,
      "outputs": []
    },
    {
      "cell_type": "code",
      "metadata": {
        "id": "wFvj3GzJ-pwC"
      },
      "source": [
        "num_rows = len(airbnb)"
      ],
      "execution_count": 33,
      "outputs": []
    },
    {
      "cell_type": "code",
      "metadata": {
        "id": "LNyKZDcZ-5CG"
      },
      "source": [
        "val_p = 0.1 \n",
        "val_size = int(num_rows * val_p)\n",
        "\n",
        "train_size = num_rows - val_size\n",
        "\n",
        "train_ds, val_ds = random_split(dataset,[train_size, val_size])\n",
        "test_ds"
      ],
      "execution_count": 35,
      "outputs": []
    },
    {
      "cell_type": "code",
      "metadata": {
        "colab": {
          "base_uri": "https://localhost:8080/"
        },
        "id": "KBmGNMIW_HlW",
        "outputId": "eedbcb6c-f97a-4022-a042-430962f9288d"
      },
      "source": [
        "print(len(train_ds))\n",
        "print(len(val_ds))"
      ],
      "execution_count": 36,
      "outputs": [
        {
          "output_type": "stream",
          "text": [
            "595\n",
            "66\n"
          ],
          "name": "stdout"
        }
      ]
    },
    {
      "cell_type": "code",
      "metadata": {
        "id": "orAXDiSf_Le3"
      },
      "source": [
        "batch_size = 4\n",
        "train_loader = DataLoader(train_ds, batch_size, shuffle=True)\n",
        "val_loader = DataLoader(val_ds, batch_size)"
      ],
      "execution_count": 37,
      "outputs": []
    },
    {
      "cell_type": "code",
      "metadata": {
        "id": "ubXCceewHazP"
      },
      "source": [
        "test_loader = DataLoader(dataset=test_ds, batch_size=1)"
      ],
      "execution_count": null,
      "outputs": []
    },
    {
      "cell_type": "code",
      "metadata": {
        "id": "inehmAEE_UBh"
      },
      "source": [
        "input_size = 8\n",
        "output_size = 1"
      ],
      "execution_count": 38,
      "outputs": []
    },
    {
      "cell_type": "code",
      "metadata": {
        "id": "8ZLFLs30_ZrD"
      },
      "source": [
        "class MyModel(nn.Module):\n",
        "    def __init__(self):\n",
        "        super().__init__()\n",
        "        self.linear = nn.Linear(input_size,output_size) \n",
        "        \n",
        "    def forward(self, xb):\n",
        "        out = self.linear(xb)                          \n",
        "        return out\n",
        "    \n",
        "    def training_step(self, batch):\n",
        "        inputs, targets = batch \n",
        "\n",
        "        out = self(inputs)          \n",
        "\n",
        "        loss = F.l1_loss(out, targets)                \n",
        "        return loss\n",
        "    \n",
        "    def validation_step(self, batch):\n",
        "        inputs, targets = batch\n",
        "\n",
        "        out = self(inputs)\n",
        "\n",
        "        loss = F.l1_loss(out, targets)                    \n",
        "        return {'val_loss': loss.detach()}\n",
        "        \n",
        "    def validation_epoch_end(self, outputs):\n",
        "        batch_losses = [x['val_loss'] for x in outputs]\n",
        "        epoch_loss = torch.stack(batch_losses).mean()\n",
        "        return {'val_loss': epoch_loss.item()}\n",
        "    \n",
        "    def epoch_end(self, epoch, result, num_epochs):\n",
        "\n",
        "        if (epoch+1) % 50 == 0 or epoch == num_epochs-1:\n",
        "            print(\"Epoch [{}], val_loss: {:.4f}\".format(epoch+1, result['val_loss']))"
      ],
      "execution_count": 40,
      "outputs": []
    },
    {
      "cell_type": "code",
      "metadata": {
        "id": "HzvpAuhq_nBT"
      },
      "source": [
        "model = MyModel()"
      ],
      "execution_count": 41,
      "outputs": []
    },
    {
      "cell_type": "code",
      "metadata": {
        "colab": {
          "base_uri": "https://localhost:8080/"
        },
        "id": "mME3q1IS_t9Y",
        "outputId": "5ffd2ee6-2132-4058-b37c-d24dbfcc9eb6"
      },
      "source": [
        "list(model.parameters())"
      ],
      "execution_count": 42,
      "outputs": [
        {
          "output_type": "execute_result",
          "data": {
            "text/plain": [
              "[Parameter containing:\n",
              " tensor([[-0.2623,  0.0802, -0.3475,  0.1854,  0.1306,  0.0150,  0.1517,  0.0004]],\n",
              "        requires_grad=True), Parameter containing:\n",
              " tensor([0.1956], requires_grad=True)]"
            ]
          },
          "metadata": {
            "tags": []
          },
          "execution_count": 42
        }
      ]
    },
    {
      "cell_type": "code",
      "metadata": {
        "id": "BOS80lZC_v_T"
      },
      "source": [
        "def evaluate(model, val_loader):\n",
        "    outputs = [model.validation_step(batch) for batch in val_loader]\n",
        "    return model.validation_epoch_end(outputs)\n",
        "\n",
        "def fit(epochs, lr, model, train_loader, val_loader, opt_func=torch.optim.SGD):\n",
        "    res = []\n",
        "    optimizer = opt_func(model.parameters(), lr)\n",
        "    for epoch in range(epochs):\n",
        "        # Training Phase \n",
        "        for batch in train_loader:\n",
        "            loss = model.training_step(batch)\n",
        "            loss.backward()\n",
        "            optimizer.step()\n",
        "            optimizer.zero_grad()\n",
        "        # Validation phase\n",
        "        result = evaluate(model, val_loader)\n",
        "        model.epoch_end(epoch, result, epochs)\n",
        "        res.append(result)\n",
        "    return res"
      ],
      "execution_count": 43,
      "outputs": []
    },
    {
      "cell_type": "code",
      "metadata": {
        "colab": {
          "base_uri": "https://localhost:8080/"
        },
        "id": "CV8CcwiJASTa",
        "outputId": "d23f89fc-500e-4e25-9263-ccde18744a7c"
      },
      "source": [
        "out = evaluate(model, val_loader)\n",
        "print(out)"
      ],
      "execution_count": 44,
      "outputs": [
        {
          "output_type": "stream",
          "text": [
            "{'val_loss': 81.63219451904297}\n"
          ],
          "name": "stdout"
        }
      ]
    },
    {
      "cell_type": "code",
      "metadata": {
        "colab": {
          "base_uri": "https://localhost:8080/"
        },
        "id": "hV07awm4AZNS",
        "outputId": "67f4e325-b0f7-4991-e8d2-9a1c84c45a82"
      },
      "source": [
        "epochs = 100\n",
        "lr = 0.001\n",
        "res1 = fit(epochs, lr, model, train_loader, val_loader)"
      ],
      "execution_count": 45,
      "outputs": [
        {
          "output_type": "stream",
          "text": [
            "Epoch [50], val_loss: 65.3948\n",
            "Epoch [100], val_loss: 53.1638\n"
          ],
          "name": "stdout"
        }
      ]
    },
    {
      "cell_type": "code",
      "metadata": {
        "colab": {
          "base_uri": "https://localhost:8080/"
        },
        "id": "hq-HRii5AeLD",
        "outputId": "62c6cfb6-807c-450d-983a-79f69a730198"
      },
      "source": [
        "epochs = 1000\n",
        "lr = 0.05\n",
        "res2 = fit(epochs, lr, model, train_loader, val_loader)"
      ],
      "execution_count": 46,
      "outputs": [
        {
          "output_type": "stream",
          "text": [
            "Epoch [50], val_loss: 29.2825\n",
            "Epoch [100], val_loss: 28.2252\n",
            "Epoch [150], val_loss: 28.1004\n",
            "Epoch [200], val_loss: 28.0298\n",
            "Epoch [250], val_loss: 28.0457\n",
            "Epoch [300], val_loss: 28.0363\n",
            "Epoch [350], val_loss: 28.0667\n",
            "Epoch [400], val_loss: 28.0516\n",
            "Epoch [450], val_loss: 28.1218\n",
            "Epoch [500], val_loss: 28.1319\n",
            "Epoch [550], val_loss: 28.1956\n",
            "Epoch [600], val_loss: 28.1894\n",
            "Epoch [650], val_loss: 28.1653\n",
            "Epoch [700], val_loss: 28.1847\n",
            "Epoch [750], val_loss: 28.1961\n",
            "Epoch [800], val_loss: 28.1772\n",
            "Epoch [850], val_loss: 28.1826\n",
            "Epoch [900], val_loss: 28.1773\n",
            "Epoch [950], val_loss: 28.1628\n",
            "Epoch [1000], val_loss: 28.1741\n"
          ],
          "name": "stdout"
        }
      ]
    },
    {
      "cell_type": "code",
      "metadata": {
        "colab": {
          "base_uri": "https://localhost:8080/"
        },
        "id": "SYgPZFiGAkU-",
        "outputId": "205680f5-642d-46c8-ff26-eb1f35c34c10"
      },
      "source": [
        "epochs = 50\n",
        "lr = 0.4\n",
        "res3 = fit(epochs, lr, model, train_loader, val_loader)"
      ],
      "execution_count": 47,
      "outputs": [
        {
          "output_type": "stream",
          "text": [
            "Epoch [50], val_loss: 28.2151\n"
          ],
          "name": "stdout"
        }
      ]
    },
    {
      "cell_type": "code",
      "metadata": {
        "id": "iviS02RECrlC"
      },
      "source": [
        "epochs = 1000\n",
        "lr = 0.001"
      ],
      "execution_count": 51,
      "outputs": []
    },
    {
      "cell_type": "code",
      "metadata": {
        "id": "zdEs9liBDA4P"
      },
      "source": [
        "def predict_single(input, target, model):\n",
        "    inputs = input.unsqueeze(0)\n",
        "    predictions = model(inputs)               \n",
        "    prediction = predictions[0].detach()\n",
        "    print(\"Input:\", input)\n",
        "    print(\"Target:\", target)\n",
        "    print(\"Prediction:\", prediction)"
      ],
      "execution_count": 54,
      "outputs": []
    },
    {
      "cell_type": "code",
      "metadata": {
        "colab": {
          "base_uri": "https://localhost:8080/"
        },
        "id": "XVwKOijgDOHR",
        "outputId": "6237d765-afb9-44b0-b73f-905c6b184db2"
      },
      "source": [
        "input, target = val_ds[0]\n",
        "predict_single(input, target, model)"
      ],
      "execution_count": 55,
      "outputs": [
        {
          "output_type": "stream",
          "text": [
            "Input: tensor([0.0000, 0.3333, 0.0556, 0.2500, 0.0000, 0.1792, 0.9862, 0.7500])\n",
            "Target: tensor([99.])\n",
            "Prediction: tensor([96.7536])\n"
          ],
          "name": "stdout"
        }
      ]
    },
    {
      "cell_type": "code",
      "metadata": {
        "colab": {
          "base_uri": "https://localhost:8080/"
        },
        "id": "JMfq9lcpE0Lb",
        "outputId": "36879b00-e3ab-4876-e282-70f5e47a9ba4"
      },
      "source": [
        "input, target = val_ds[6]\n",
        "predict_single(input, target, model)"
      ],
      "execution_count": 62,
      "outputs": [
        {
          "output_type": "stream",
          "text": [
            "Input: tensor([0.0000, 0.5556, 0.0000, 0.2500, 0.3333, 0.0482, 0.8664, 0.7500])\n",
            "Target: tensor([275.])\n",
            "Prediction: tensor([113.2658])\n"
          ],
          "name": "stdout"
        }
      ]
    },
    {
      "cell_type": "code",
      "metadata": {
        "colab": {
          "base_uri": "https://localhost:8080/"
        },
        "id": "Cv_f6XWwDPhK",
        "outputId": "2793f200-6a04-43c7-da12-65cd3d27bc09"
      },
      "source": [
        "input, target = val_ds[8]\n",
        "predict_single(input, target, model)"
      ],
      "execution_count": 56,
      "outputs": [
        {
          "output_type": "stream",
          "text": [
            "Input: tensor([0.0000, 0.2222, 0.0000, 0.1667, 0.0000, 0.0934, 0.9631, 0.2500])\n",
            "Target: tensor([63.])\n",
            "Prediction: tensor([89.8840])\n"
          ],
          "name": "stdout"
        }
      ]
    },
    {
      "cell_type": "code",
      "metadata": {
        "colab": {
          "base_uri": "https://localhost:8080/"
        },
        "id": "ajscbJqVDXaK",
        "outputId": "a68cd30a-d636-4a92-f09c-54b5948b2dff"
      },
      "source": [
        "input, target = val_ds[17]\n",
        "predict_single(input, target, model)"
      ],
      "execution_count": 57,
      "outputs": [
        {
          "output_type": "stream",
          "text": [
            "Input: tensor([0.5000, 0.1111, 0.0000, 0.0833, 0.0000, 0.3765, 0.9217, 0.2500])\n",
            "Target: tensor([43.])\n",
            "Prediction: tensor([50.2127])\n"
          ],
          "name": "stdout"
        }
      ]
    },
    {
      "cell_type": "code",
      "metadata": {
        "colab": {
          "base_uri": "https://localhost:8080/"
        },
        "id": "T7-3cAKXDS54",
        "outputId": "b89c577f-8d2d-4e75-c188-e5b6f5bca827"
      },
      "source": [
        "input, target = val_ds[21]\n",
        "predict_single(input, target, model)"
      ],
      "execution_count": 61,
      "outputs": [
        {
          "output_type": "stream",
          "text": [
            "Input: tensor([0.5000, 0.0000, 0.0000, 0.0833, 0.0000, 0.0030, 0.7235, 0.0000])\n",
            "Target: tensor([32.])\n",
            "Prediction: tensor([34.4026])\n"
          ],
          "name": "stdout"
        }
      ]
    },
    {
      "cell_type": "code",
      "metadata": {
        "id": "xFyT4qMgEscL"
      },
      "source": [
        ""
      ],
      "execution_count": null,
      "outputs": []
    },
    {
      "cell_type": "markdown",
      "metadata": {
        "id": "AaHxXf00FBks"
      },
      "source": [
        "As it could be seen this model predicts well the 'average' data, but the accuracy is small for outliers, too big or too little data, even though the data was scaled."
      ]
    },
    {
      "cell_type": "code",
      "metadata": {
        "id": "YkqkUHDiFRuu"
      },
      "source": [
        ""
      ],
      "execution_count": null,
      "outputs": []
    },
    {
      "cell_type": "markdown",
      "metadata": {
        "id": "29pxU8A-K6m6"
      },
      "source": [
        "In another notebook the DNN model was performed for classification (accommodation types)"
      ]
    },
    {
      "cell_type": "code",
      "metadata": {
        "id": "-Vt6wupaFR5e"
      },
      "source": [
        ""
      ],
      "execution_count": null,
      "outputs": []
    }
  ]
}